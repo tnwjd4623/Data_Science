{
 "cells": [
  {
   "cell_type": "code",
   "execution_count": 37,
   "metadata": {},
   "outputs": [],
   "source": [
    "import pandas as pd\n",
    "import os\n",
    "import json as js\n",
    "from pandas.io.json import json_normalize\n",
    "from datetime import datetime, timedelta"
   ]
  },
  {
   "cell_type": "code",
   "execution_count": 38,
   "metadata": {},
   "outputs": [
    {
     "name": "stdout",
     "output_type": "stream",
     "text": [
      "['A01', 'A010', 'A016', 'A017', 'A018', 'A019', 'A02', 'A020', 'A021', 'A022', 'A024', 'A025', 'A026', 'A027', 'A028', 'A029', 'A03', 'A030', 'A031', 'A032', 'A033', 'A034', 'A035', 'A036', 'A037', 'A038', 'A039', 'A04', 'A040', 'A041', 'A042', 'A043', 'A044', 'A045', 'A047', 'A048', 'A049', 'A05', 'A050', 'A052', 'A053', 'A054', 'A056', 'A057', 'A058', 'A059', 'A06', 'A060', 'A061', 'A062', 'A063', 'A065', 'A068', 'A07', 'A071', 'A072', 'A073', 'A08', 'A080', 'A081', 'A083', 'A084', 'A092', 'A093', 'A094', 'A096', 'A097', 'A098']\n"
     ]
    }
   ],
   "source": [
    "path = './sokulee'\n",
    "dir_list = os.listdir(path)\n",
    "print(dir_list)"
   ]
  },
  {
   "cell_type": "code",
   "execution_count": 39,
   "metadata": {},
   "outputs": [],
   "source": [
    "df_heart = pd.DataFrame(columns=['USERNAME', 'DATE', 'TIME', 'VALUE'])\n",
    "df_sleep = pd.DataFrame(columns=['USERNAME', 'DATE', 'STARTTIME', 'MINUTESASLEEP', 'MINUTUESAWAKE', 'TIMEINBED'])\n",
    "df_step = pd.DataFrame(columns=['USERNAME', 'DATE', 'TIME', 'HOUR', 'MINUTES', 'STEPS'])"
   ]
  },
  {
   "cell_type": "code",
   "execution_count": 40,
   "metadata": {
    "scrolled": false
   },
   "outputs": [
    {
     "name": "stdout",
     "output_type": "stream",
     "text": [
      "A01\n",
      "A010\n",
      "A016\n",
      "A017\n",
      "A018\n",
      "A019\n",
      "A02\n",
      "A020\n",
      "A021\n",
      "A022\n",
      "A024\n",
      "A025\n",
      "A026\n",
      "A027\n",
      "A028\n",
      "A029\n",
      "A03\n",
      "A030\n",
      "A031\n",
      "A032\n",
      "A033\n",
      "A034\n",
      "A035\n",
      "A036\n",
      "A037\n",
      "A038\n",
      "A039\n",
      "A04\n",
      "A040\n",
      "A041\n",
      "A042\n",
      "A043\n",
      "A044\n",
      "A045\n",
      "A047\n",
      "A048\n",
      "A049\n",
      "A05\n",
      "A050\n",
      "A052\n",
      "A053\n",
      "A054\n",
      "A056\n",
      "A057\n",
      "A058\n",
      "A059\n",
      "A06\n",
      "A060\n",
      "A061\n",
      "A062\n",
      "A063\n",
      "A065\n",
      "A068\n",
      "A07\n",
      "A071\n",
      "A072\n",
      "A073\n",
      "A08\n",
      "A080\n",
      "A081\n",
      "A083\n",
      "A084\n",
      "A092\n",
      "A093\n",
      "A094\n",
      "A096\n",
      "A097\n",
      "A098\n"
     ]
    }
   ],
   "source": [
    "for i in range(len(dir_list)):\n",
    "    file_list = os.listdir('./sokulee/'+dir_list[i])\n",
    "    user_name = dir_list[i]\n",
    "    \n",
    "    print(dir_list[i])\n",
    "    #print(len(user_name))\n",
    "    for j in range(len(file_list)):\n",
    "        file_path = './sokulee/'+dir_list[i]+'/'+file_list[j]\n",
    "        file = open(file_path)\n",
    "        data = js.load(file)\n",
    "        #print(file_list[j])\n",
    "        \n",
    "        if len(user_name) == 3:\n",
    "            date = file_list[j][4:8]+\"-\"+file_list[j][8:10]+\"-\"+file_list[j][10:12]\n",
    "        elif len(user_name) > 3:\n",
    "            date = file_list[j][5:9]+\"-\"+file_list[j][9:11]+\"-\"+file_list[j][11:13]\n",
    "            \n",
    "            \n",
    "        if 'heart' in file_path:\n",
    "            if len(pd.DataFrame(data[\"activities-heart-intraday\"][\"dataset\"])) > 0:\n",
    "                tmp_df = pd.DataFrame(data[\"activities-heart-intraday\"][\"dataset\"])\n",
    "            \n",
    "                tmp_df['USERNAME'] = user_name\n",
    "                tmp_df['DATE'] = date\n",
    "            \n",
    "                tmp_df = pd.DataFrame(tmp_df, columns=['USERNAME', 'DATE', 'time', 'value'])\n",
    "                tmp_df.rename(columns={'time' : 'TIME', 'value' : 'VALUE'}, inplace=True)\n",
    "        \n",
    "                df_heart = pd.concat([df_heart, tmp_df])\n",
    "            \n",
    "            else:\n",
    "                tmp_df = pd.DataFrame(columns=['USERNAME', 'DATE', 'TIME', 'VALUE'])\n",
    "                tmp_df.loc[0] = [user_name, date, \"00:00:00\", 0]\n",
    "                df_heart = pd.concat([df_heart, tmp_df])\n",
    "                \n",
    "                \n",
    "        elif 'sleep' in file_path:\n",
    "            if len(pd.DataFrame(data['sleep'])) > 0:\n",
    "                tmp_df  = pd.DataFrame(data[\"sleep\"][0])\n",
    "           \n",
    "                start_time = tmp_df['startTime'][0][11:19]\n",
    "                time_in_bed = tmp_df['timeInBed'][0]\n",
    "            \n",
    "                asleep = tmp_df['minutesAsleep'][0]\n",
    "                awake = tmp_df['minutesAwake'][0]\n",
    "            \n",
    "            \n",
    "                tmp_df = pd.DataFrame(columns=['USERNAME', 'DATE', 'STARTTIME', 'MINUTESASLEEP', 'MINUTUESAWAKE', 'TIMEINBED'])\n",
    "                tmp_df.loc[0] = [user_name, date, start_time, asleep, awake, time_in_bed]\n",
    "                df_sleep = pd.concat([df_sleep, tmp_df])\n",
    "                \n",
    "        \n",
    "        \n",
    "        elif 'steps' in file_path:\n",
    "            if len(pd.DataFrame(data[\"activities-steps-intraday\"][\"dataset\"])) > 0:\n",
    "                tmp_df = pd.DataFrame(data[\"activities-steps-intraday\"][\"dataset\"])\n",
    "            \n",
    "                tmp_df['USERNAME'] = user_name\n",
    "                tmp_df['DATE'] = date\n",
    "                tmp_df['HOUR'] = tmp_df['time'].apply(lambda e: int(e[0:2]))\n",
    "                tmp_df['MINUTES'] = tmp_df['time'].apply(lambda e: int(e[3:5]))\n",
    "            \n",
    "                tmp_df = pd.DataFrame(tmp_df, columns=['USERNAME', 'DATE', 'time', 'HOUR', 'MINUTES', 'value'])\n",
    "                tmp_df.rename(columns={'time' : 'TIME', 'value' : 'STEPS'}, inplace=True)\n",
    "        \n",
    "                df_step = pd.concat([df_step, tmp_df])\n",
    "                #print(df_step)\n",
    "                \n",
    "            else:\n",
    "                tmp_df = pd.DataFrame(columns=['USERNAME', 'DATE', 'TIME', 'HOUR', 'MINUTES', 'STEPS'])\n",
    "                tmp_df.loc[0] = [user_name, date, \"00:00:00\", \"0\", \"0\", \"0\"]\n",
    "                df_step = pd.concat([df_step, tmp_df])"
   ]
  },
  {
   "cell_type": "code",
   "execution_count": 41,
   "metadata": {},
   "outputs": [],
   "source": [
    "df_heart.to_csv('./all_user_heart.csv', index=False)\n",
    "df_sleep.to_csv('./all_user_sleep.csv', index=False)\n",
    "df_step.to_csv('./all_user_steps.csv', index=False)"
   ]
  },
  {
   "cell_type": "code",
   "execution_count": null,
   "metadata": {},
   "outputs": [],
   "source": []
  }
 ],
 "metadata": {
  "kernelspec": {
   "display_name": "Python 3",
   "language": "python",
   "name": "python3"
  },
  "language_info": {
   "codemirror_mode": {
    "name": "ipython",
    "version": 3
   },
   "file_extension": ".py",
   "mimetype": "text/x-python",
   "name": "python",
   "nbconvert_exporter": "python",
   "pygments_lexer": "ipython3",
   "version": "3.7.3"
  }
 },
 "nbformat": 4,
 "nbformat_minor": 2
}
