{
 "cells": [
  {
   "cell_type": "code",
   "execution_count": 48,
   "metadata": {},
   "outputs": [],
   "source": [
    "import pandas as pd\n",
    "import numpy as np\n",
    "import matplotlib.pyplot as plt\n",
    "import seaborn as sns\n",
    "import gmplot"
   ]
  },
  {
   "cell_type": "code",
   "execution_count": 49,
   "metadata": {},
   "outputs": [],
   "source": [
    "train = pd.read_csv('./data/total_rent.csv')\n",
    "train.head(5)\n",
    "\n",
    "train2 = pd.read_csv('./data/total_return.csv')"
   ]
  },
  {
   "cell_type": "code",
   "execution_count": 50,
   "metadata": {},
   "outputs": [
    {
     "data": {
      "text/html": [
       "<div>\n",
       "<style scoped>\n",
       "    .dataframe tbody tr th:only-of-type {\n",
       "        vertical-align: middle;\n",
       "    }\n",
       "\n",
       "    .dataframe tbody tr th {\n",
       "        vertical-align: top;\n",
       "    }\n",
       "\n",
       "    .dataframe thead th {\n",
       "        text-align: right;\n",
       "    }\n",
       "</style>\n",
       "<table border=\"1\" class=\"dataframe\">\n",
       "  <thead>\n",
       "    <tr style=\"text-align: right;\">\n",
       "      <th></th>\n",
       "      <th>번호</th>\n",
       "      <th>키오스크번호</th>\n",
       "      <th>구별</th>\n",
       "      <th>명칭</th>\n",
       "      <th>위치</th>\n",
       "      <th>주소</th>\n",
       "      <th>거치대</th>\n",
       "      <th>좌표</th>\n",
       "    </tr>\n",
       "  </thead>\n",
       "  <tbody>\n",
       "    <tr>\n",
       "      <th>0</th>\n",
       "      <td>1</td>\n",
       "      <td>1</td>\n",
       "      <td>유성구</td>\n",
       "      <td>무역전시관입구(택시승강장 앞)</td>\n",
       "      <td>엑스포다리 맞은편</td>\n",
       "      <td>유성구 도룡동 3-8</td>\n",
       "      <td>14</td>\n",
       "      <td>36.374325,127.387462</td>\n",
       "    </tr>\n",
       "    <tr>\n",
       "      <th>1</th>\n",
       "      <td>2</td>\n",
       "      <td>2</td>\n",
       "      <td>유성구</td>\n",
       "      <td>대전컨벤션 센터 앞</td>\n",
       "      <td>둔산대교 맞은편</td>\n",
       "      <td>유성구 도룡동 4-19</td>\n",
       "      <td>20</td>\n",
       "      <td>36.374472,127.392241</td>\n",
       "    </tr>\n",
       "    <tr>\n",
       "      <th>2</th>\n",
       "      <td>3</td>\n",
       "      <td>3</td>\n",
       "      <td>서구</td>\n",
       "      <td>한밭수목원(정문입구)</td>\n",
       "      <td>한밭수목원 내</td>\n",
       "      <td>서구 만년동 396</td>\n",
       "      <td>19</td>\n",
       "      <td>36.369855,127.388749</td>\n",
       "    </tr>\n",
       "    <tr>\n",
       "      <th>3</th>\n",
       "      <td>4</td>\n",
       "      <td>4</td>\n",
       "      <td>서구</td>\n",
       "      <td>초원아파트104동부근(버스정류장)</td>\n",
       "      <td>초원아파트 104동앞 쪽문 육교 버스정류장 앞</td>\n",
       "      <td>서구 만년동 401</td>\n",
       "      <td>12</td>\n",
       "      <td>36.368192,127.379281</td>\n",
       "    </tr>\n",
       "    <tr>\n",
       "      <th>4</th>\n",
       "      <td>5</td>\n",
       "      <td>5</td>\n",
       "      <td>서구</td>\n",
       "      <td>둔산대공원 입구(버스정류장)</td>\n",
       "      <td>한밭수목원에서 평송수련원 가는길 버스정류장 앞</td>\n",
       "      <td>서구 둔산동 1521-10</td>\n",
       "      <td>13</td>\n",
       "      <td>36.365034,127.389361</td>\n",
       "    </tr>\n",
       "  </tbody>\n",
       "</table>\n",
       "</div>"
      ],
      "text/plain": [
       "   번호  키오스크번호   구별                  명칭                         위치  \\\n",
       "0   1       1  유성구    무역전시관입구(택시승강장 앞)                  엑스포다리 맞은편   \n",
       "1   2       2  유성구          대전컨벤션 센터 앞                   둔산대교 맞은편   \n",
       "2   3       3   서구         한밭수목원(정문입구)                    한밭수목원 내   \n",
       "3   4       4   서구  초원아파트104동부근(버스정류장)  초원아파트 104동앞 쪽문 육교 버스정류장 앞   \n",
       "4   5       5   서구     둔산대공원 입구(버스정류장)  한밭수목원에서 평송수련원 가는길 버스정류장 앞   \n",
       "\n",
       "                주소  거치대                    좌표  \n",
       "0      유성구 도룡동 3-8   14  36.374325,127.387462  \n",
       "1     유성구 도룡동 4-19   20  36.374472,127.392241  \n",
       "2       서구 만년동 396   19  36.369855,127.388749  \n",
       "3       서구 만년동 401   12  36.368192,127.379281  \n",
       "4   서구 둔산동 1521-10   13  36.365034,127.389361  "
      ]
     },
     "execution_count": 50,
     "metadata": {},
     "output_type": "execute_result"
    }
   ],
   "source": [
    "station = pd.read_csv('./data/station.csv')\n",
    "station.head(5)"
   ]
  },
  {
   "cell_type": "code",
   "execution_count": 51,
   "metadata": {},
   "outputs": [
    {
     "data": {
      "text/html": [
       "<div>\n",
       "<style scoped>\n",
       "    .dataframe tbody tr th:only-of-type {\n",
       "        vertical-align: middle;\n",
       "    }\n",
       "\n",
       "    .dataframe tbody tr th {\n",
       "        vertical-align: top;\n",
       "    }\n",
       "\n",
       "    .dataframe thead th {\n",
       "        text-align: right;\n",
       "    }\n",
       "</style>\n",
       "<table border=\"1\" class=\"dataframe\">\n",
       "  <thead>\n",
       "    <tr style=\"text-align: right;\">\n",
       "      <th></th>\n",
       "      <th>STATION</th>\n",
       "      <th>YEAR</th>\n",
       "      <th>MONTH</th>\n",
       "      <th>DAY</th>\n",
       "      <th>HOUR</th>\n",
       "      <th>WEEKDAY</th>\n",
       "      <th>SEASON</th>\n",
       "      <th>TEMPERATURE</th>\n",
       "      <th>RAINFALL</th>\n",
       "      <th>WINDSPEED</th>\n",
       "      <th>HUMLDITY</th>\n",
       "      <th>SNOWFALL</th>\n",
       "      <th>RENTCOUNT</th>\n",
       "    </tr>\n",
       "  </thead>\n",
       "  <tbody>\n",
       "    <tr>\n",
       "      <th>count</th>\n",
       "      <td>3.784320e+06</td>\n",
       "      <td>3.784320e+06</td>\n",
       "      <td>3.784320e+06</td>\n",
       "      <td>3.784320e+06</td>\n",
       "      <td>3.784320e+06</td>\n",
       "      <td>3.784320e+06</td>\n",
       "      <td>3.784320e+06</td>\n",
       "      <td>3.784320e+06</td>\n",
       "      <td>3.784320e+06</td>\n",
       "      <td>3.784320e+06</td>\n",
       "      <td>3.784320e+06</td>\n",
       "      <td>3.784320e+06</td>\n",
       "      <td>3.784320e+06</td>\n",
       "    </tr>\n",
       "    <tr>\n",
       "      <th>mean</th>\n",
       "      <td>7.250000e+01</td>\n",
       "      <td>2.014000e+03</td>\n",
       "      <td>6.526027e+00</td>\n",
       "      <td>1.572055e+01</td>\n",
       "      <td>1.150000e+01</td>\n",
       "      <td>2.997260e+00</td>\n",
       "      <td>1.490411e+00</td>\n",
       "      <td>1.354234e+01</td>\n",
       "      <td>1.164612e-01</td>\n",
       "      <td>1.551697e+00</td>\n",
       "      <td>7.174365e+01</td>\n",
       "      <td>2.136225e-01</td>\n",
       "      <td>8.718658e-01</td>\n",
       "    </tr>\n",
       "    <tr>\n",
       "      <th>std</th>\n",
       "      <td>4.156822e+01</td>\n",
       "      <td>8.164967e-01</td>\n",
       "      <td>3.447852e+00</td>\n",
       "      <td>8.796248e+00</td>\n",
       "      <td>6.922187e+00</td>\n",
       "      <td>1.998400e+00</td>\n",
       "      <td>1.116767e+00</td>\n",
       "      <td>1.060540e+01</td>\n",
       "      <td>8.525105e-01</td>\n",
       "      <td>1.102337e+00</td>\n",
       "      <td>2.014623e+01</td>\n",
       "      <td>1.457200e+00</td>\n",
       "      <td>2.230186e+00</td>\n",
       "    </tr>\n",
       "    <tr>\n",
       "      <th>min</th>\n",
       "      <td>1.000000e+00</td>\n",
       "      <td>2.013000e+03</td>\n",
       "      <td>1.000000e+00</td>\n",
       "      <td>1.000000e+00</td>\n",
       "      <td>0.000000e+00</td>\n",
       "      <td>0.000000e+00</td>\n",
       "      <td>0.000000e+00</td>\n",
       "      <td>-1.650000e+01</td>\n",
       "      <td>0.000000e+00</td>\n",
       "      <td>0.000000e+00</td>\n",
       "      <td>1.000000e+01</td>\n",
       "      <td>0.000000e+00</td>\n",
       "      <td>0.000000e+00</td>\n",
       "    </tr>\n",
       "    <tr>\n",
       "      <th>25%</th>\n",
       "      <td>3.675000e+01</td>\n",
       "      <td>2.013000e+03</td>\n",
       "      <td>4.000000e+00</td>\n",
       "      <td>8.000000e+00</td>\n",
       "      <td>5.750000e+00</td>\n",
       "      <td>1.000000e+00</td>\n",
       "      <td>0.000000e+00</td>\n",
       "      <td>4.500000e+00</td>\n",
       "      <td>0.000000e+00</td>\n",
       "      <td>8.000000e-01</td>\n",
       "      <td>5.800000e+01</td>\n",
       "      <td>0.000000e+00</td>\n",
       "      <td>0.000000e+00</td>\n",
       "    </tr>\n",
       "    <tr>\n",
       "      <th>50%</th>\n",
       "      <td>7.250000e+01</td>\n",
       "      <td>2.014000e+03</td>\n",
       "      <td>7.000000e+00</td>\n",
       "      <td>1.600000e+01</td>\n",
       "      <td>1.150000e+01</td>\n",
       "      <td>3.000000e+00</td>\n",
       "      <td>1.000000e+00</td>\n",
       "      <td>1.435000e+01</td>\n",
       "      <td>0.000000e+00</td>\n",
       "      <td>1.300000e+00</td>\n",
       "      <td>7.500000e+01</td>\n",
       "      <td>0.000000e+00</td>\n",
       "      <td>0.000000e+00</td>\n",
       "    </tr>\n",
       "    <tr>\n",
       "      <th>75%</th>\n",
       "      <td>1.082500e+02</td>\n",
       "      <td>2.015000e+03</td>\n",
       "      <td>1.000000e+01</td>\n",
       "      <td>2.300000e+01</td>\n",
       "      <td>1.725000e+01</td>\n",
       "      <td>5.000000e+00</td>\n",
       "      <td>2.000000e+00</td>\n",
       "      <td>2.270000e+01</td>\n",
       "      <td>0.000000e+00</td>\n",
       "      <td>2.100000e+00</td>\n",
       "      <td>8.900000e+01</td>\n",
       "      <td>0.000000e+00</td>\n",
       "      <td>1.000000e+00</td>\n",
       "    </tr>\n",
       "    <tr>\n",
       "      <th>max</th>\n",
       "      <td>1.440000e+02</td>\n",
       "      <td>2.015000e+03</td>\n",
       "      <td>1.200000e+01</td>\n",
       "      <td>3.100000e+01</td>\n",
       "      <td>2.300000e+01</td>\n",
       "      <td>6.000000e+00</td>\n",
       "      <td>3.000000e+00</td>\n",
       "      <td>3.590000e+01</td>\n",
       "      <td>3.600000e+01</td>\n",
       "      <td>9.100000e+00</td>\n",
       "      <td>1.000000e+02</td>\n",
       "      <td>1.840000e+01</td>\n",
       "      <td>1.080000e+02</td>\n",
       "    </tr>\n",
       "  </tbody>\n",
       "</table>\n",
       "</div>"
      ],
      "text/plain": [
       "            STATION          YEAR         MONTH           DAY          HOUR  \\\n",
       "count  3.784320e+06  3.784320e+06  3.784320e+06  3.784320e+06  3.784320e+06   \n",
       "mean   7.250000e+01  2.014000e+03  6.526027e+00  1.572055e+01  1.150000e+01   \n",
       "std    4.156822e+01  8.164967e-01  3.447852e+00  8.796248e+00  6.922187e+00   \n",
       "min    1.000000e+00  2.013000e+03  1.000000e+00  1.000000e+00  0.000000e+00   \n",
       "25%    3.675000e+01  2.013000e+03  4.000000e+00  8.000000e+00  5.750000e+00   \n",
       "50%    7.250000e+01  2.014000e+03  7.000000e+00  1.600000e+01  1.150000e+01   \n",
       "75%    1.082500e+02  2.015000e+03  1.000000e+01  2.300000e+01  1.725000e+01   \n",
       "max    1.440000e+02  2.015000e+03  1.200000e+01  3.100000e+01  2.300000e+01   \n",
       "\n",
       "            WEEKDAY        SEASON   TEMPERATURE      RAINFALL     WINDSPEED  \\\n",
       "count  3.784320e+06  3.784320e+06  3.784320e+06  3.784320e+06  3.784320e+06   \n",
       "mean   2.997260e+00  1.490411e+00  1.354234e+01  1.164612e-01  1.551697e+00   \n",
       "std    1.998400e+00  1.116767e+00  1.060540e+01  8.525105e-01  1.102337e+00   \n",
       "min    0.000000e+00  0.000000e+00 -1.650000e+01  0.000000e+00  0.000000e+00   \n",
       "25%    1.000000e+00  0.000000e+00  4.500000e+00  0.000000e+00  8.000000e-01   \n",
       "50%    3.000000e+00  1.000000e+00  1.435000e+01  0.000000e+00  1.300000e+00   \n",
       "75%    5.000000e+00  2.000000e+00  2.270000e+01  0.000000e+00  2.100000e+00   \n",
       "max    6.000000e+00  3.000000e+00  3.590000e+01  3.600000e+01  9.100000e+00   \n",
       "\n",
       "           HUMLDITY      SNOWFALL     RENTCOUNT  \n",
       "count  3.784320e+06  3.784320e+06  3.784320e+06  \n",
       "mean   7.174365e+01  2.136225e-01  8.718658e-01  \n",
       "std    2.014623e+01  1.457200e+00  2.230186e+00  \n",
       "min    1.000000e+01  0.000000e+00  0.000000e+00  \n",
       "25%    5.800000e+01  0.000000e+00  0.000000e+00  \n",
       "50%    7.500000e+01  0.000000e+00  0.000000e+00  \n",
       "75%    8.900000e+01  0.000000e+00  1.000000e+00  \n",
       "max    1.000000e+02  1.840000e+01  1.080000e+02  "
      ]
     },
     "execution_count": 51,
     "metadata": {},
     "output_type": "execute_result"
    }
   ],
   "source": [
    "train.describe()"
   ]
  },
  {
   "cell_type": "code",
   "execution_count": 52,
   "metadata": {},
   "outputs": [
    {
     "data": {
      "text/plain": [
       "STATION\n",
       "3      174269.0\n",
       "56      90884.0\n",
       "31      83360.0\n",
       "17      82713.0\n",
       "32      73472.0\n",
       "33      71000.0\n",
       "14      57338.0\n",
       "21      56186.0\n",
       "105     56182.0\n",
       "55      55047.0\n",
       "Name: RENTCOUNT, dtype: float64"
      ]
     },
     "execution_count": 52,
     "metadata": {},
     "output_type": "execute_result"
    }
   ],
   "source": [
    "train.groupby(['STATION'])['RENTCOUNT'].sum().nlargest(10)"
   ]
  },
  {
   "cell_type": "code",
   "execution_count": 53,
   "metadata": {},
   "outputs": [
    {
     "data": {
      "image/png": "[encoded data removed]",
      "text/plain": [
       "<Figure size 432x288 with 1 Axes>"
      ]
     },
     "metadata": {
      "needs_background": "light"
     },
     "output_type": "display_data"
    }
   ],
   "source": [
    "group_season = train.groupby(['SEASON'])['RENTCOUNT'].sum().reset_index()\n",
    "ax = sns.barplot(x=group_season['SEASON'], y=group_season['RENTCOUNT'])\n",
    "ax.set(xlabel='Season', ylabel='Rent count')\n",
    "season = ['Spring', 'Sumer', 'Fall', 'Winter']\n",
    "plt.xticks(np.arange(4), season)\n",
    "plt.title('The number of rented bike by season')\n",
    "plt.show()"
   ]
  },
  {
   "cell_type": "code",
   "execution_count": 54,
   "metadata": {},
   "outputs": [
    {
     "data": {
      "image/png": "[encoded data removed]",
      "text/plain": [
       "<Figure size 432x288 with 1 Axes>"
      ]
     },
     "metadata": {
      "needs_background": "light"
     },
     "output_type": "display_data"
    }
   ],
   "source": [
    "group_weekday = train.groupby(['WEEKDAY'])['RENTCOUNT'].sum().reset_index()\n",
    "ax = sns.barplot(x=group_weekday['WEEKDAY'], y=group_weekday['RENTCOUNT'])\n",
    "ax.set(xlabel='Weekday', ylabel = 'Count')\n",
    "weekday = ['SUN', 'MON', 'TUE', 'WED', 'THU', 'FRI', 'SAT']\n",
    "plt.xticks(np.arange(7), weekday)\n",
    "plt.title('The number of rented bike by weekday')\n",
    "plt.show()"
   ]
  },
  {
   "cell_type": "code",
   "execution_count": 55,
   "metadata": {},
   "outputs": [
    {
     "data": {
      "image/png": "[encoded data removed]",
      "text/plain": [
       "<Figure size 432x288 with 1 Axes>"
      ]
     },
     "metadata": {
      "needs_background": "light"
     },
     "output_type": "display_data"
    }
   ],
   "source": [
    "group_mn = train.groupby(['MONTH'])['RENTCOUNT'].sum().reset_index()\n",
    "ax = sns.barplot(x=group_mn['MONTH'], y=group_mn['RENTCOUNT'])\n",
    "ax.set(xlabel='Month', ylabel='count')\n",
    "plt.title('The number of rented bike by weekday')\n",
    "plt.show()"
   ]
  },
  {
   "cell_type": "code",
   "execution_count": 56,
   "metadata": {},
   "outputs": [
    {
     "data": {
      "image/png": "[encoded data removed]",
      "text/plain": [
       "<Figure size 432x288 with 1 Axes>"
      ]
     },
     "metadata": {
      "needs_background": "light"
     },
     "output_type": "display_data"
    }
   ],
   "source": [
    "group_hr = train.groupby(['HOUR'])['RENTCOUNT'].sum().reset_index()\n",
    "ax = sns.barplot(x=group_hr['HOUR'], y=group_hr['RENTCOUNT'])\n",
    "ax.set(xlabel='Hour', ylabel='Count')\n",
    "plt.title('The number of rented bike by weekday')\n",
    "plt.show()"
   ]
  },
  {
   "cell_type": "code",
   "execution_count": 57,
   "metadata": {},
   "outputs": [],
   "source": [
    "import statistics\n",
    "\n",
    "top10 = train.groupby(['STATION'])['RENTCOUNT'].sum().nlargest(10)\n",
    "top10_return = train2.groupby(['STATION'])['RETURNCOUNT'].sum().nlargest(10)\n",
    "\n",
    "# Rent Stattion\n",
    "top10_lat = []\n",
    "top10_lon = []\n",
    "\n",
    "# Return Station\n",
    "top10_lat2 = []\n",
    "top10_lon2 = []\n",
    "\n",
    "top10_station = top10.index\n",
    "top10_station2 = top10_return.index\n",
    "\n",
    "for i in range(10):\n",
    "    location = station[station['번호'].isin([top10.index[i]])]\n",
    "    location2 = station[station['번호'].isin([top10_return.index[i]])]\n",
    "    \n",
    "    # Rent\n",
    "    top10_lat.append(float(location['좌표'].iloc[0].split(',')[0]))\n",
    "    top10_lon.append(float(location['좌표'].iloc[0].split(',')[1]))\n",
    "    \n",
    "    # Return\n",
    "    top10_lat2.append(float(location2['좌표'].iloc[0].split(',')[0]))\n",
    "    top10_lon2.append(float(location2['좌표'].iloc[0].split(',')[1]))\n"
   ]
  },
  {
   "cell_type": "code",
   "execution_count": 58,
   "metadata": {
    "scrolled": false
   },
   "outputs": [
    {
     "data": {
      "text/html": [
       "<div>\n",
       "<style scoped>\n",
       "    .dataframe tbody tr th:only-of-type {\n",
       "        vertical-align: middle;\n",
       "    }\n",
       "\n",
       "    .dataframe tbody tr th {\n",
       "        vertical-align: top;\n",
       "    }\n",
       "\n",
       "    .dataframe thead th {\n",
       "        text-align: right;\n",
       "    }\n",
       "</style>\n",
       "<table border=\"1\" class=\"dataframe\">\n",
       "  <thead>\n",
       "    <tr style=\"text-align: right;\">\n",
       "      <th></th>\n",
       "      <th>index</th>\n",
       "      <th>RENT_STATION</th>\n",
       "      <th>RETURN_STATION</th>\n",
       "      <th>ROUTECOUNT</th>\n",
       "    </tr>\n",
       "  </thead>\n",
       "  <tbody>\n",
       "    <tr>\n",
       "      <th>0</th>\n",
       "      <td>342</td>\n",
       "      <td>3</td>\n",
       "      <td>3</td>\n",
       "      <td>84496</td>\n",
       "    </tr>\n",
       "    <tr>\n",
       "      <th>1</th>\n",
       "      <td>4873</td>\n",
       "      <td>31</td>\n",
       "      <td>31</td>\n",
       "      <td>21749</td>\n",
       "    </tr>\n",
       "    <tr>\n",
       "      <th>2</th>\n",
       "      <td>8708</td>\n",
       "      <td>56</td>\n",
       "      <td>56</td>\n",
       "      <td>18343</td>\n",
       "    </tr>\n",
       "    <tr>\n",
       "      <th>3</th>\n",
       "      <td>3361</td>\n",
       "      <td>21</td>\n",
       "      <td>105</td>\n",
       "      <td>17220</td>\n",
       "    </tr>\n",
       "    <tr>\n",
       "      <th>4</th>\n",
       "      <td>0</td>\n",
       "      <td>1</td>\n",
       "      <td>1</td>\n",
       "      <td>14489</td>\n",
       "    </tr>\n",
       "    <tr>\n",
       "      <th>5</th>\n",
       "      <td>5045</td>\n",
       "      <td>32</td>\n",
       "      <td>32</td>\n",
       "      <td>12177</td>\n",
       "    </tr>\n",
       "    <tr>\n",
       "      <th>6</th>\n",
       "      <td>15442</td>\n",
       "      <td>105</td>\n",
       "      <td>21</td>\n",
       "      <td>12154</td>\n",
       "    </tr>\n",
       "    <tr>\n",
       "      <th>7</th>\n",
       "      <td>5218</td>\n",
       "      <td>33</td>\n",
       "      <td>33</td>\n",
       "      <td>11973</td>\n",
       "    </tr>\n",
       "    <tr>\n",
       "      <th>8</th>\n",
       "      <td>2625</td>\n",
       "      <td>17</td>\n",
       "      <td>17</td>\n",
       "      <td>11966</td>\n",
       "    </tr>\n",
       "    <tr>\n",
       "      <th>9</th>\n",
       "      <td>8684</td>\n",
       "      <td>56</td>\n",
       "      <td>32</td>\n",
       "      <td>11868</td>\n",
       "    </tr>\n",
       "  </tbody>\n",
       "</table>\n",
       "</div>"
      ],
      "text/plain": [
       "   index  RENT_STATION  RETURN_STATION  ROUTECOUNT\n",
       "0    342             3               3       84496\n",
       "1   4873            31              31       21749\n",
       "2   8708            56              56       18343\n",
       "3   3361            21             105       17220\n",
       "4      0             1               1       14489\n",
       "5   5045            32              32       12177\n",
       "6  15442           105              21       12154\n",
       "7   5218            33              33       11973\n",
       "8   2625            17              17       11966\n",
       "9   8684            56              32       11868"
      ]
     },
     "execution_count": 58,
     "metadata": {},
     "output_type": "execute_result"
    }
   ],
   "source": [
    "tashu = pd.read_csv('./data/tashu.csv')\n",
    "tashu = tashu.dropna(axis=0)\n",
    "\n",
    "tashu = tashu[tashu.RENT_DATE != 0]\n",
    "tashu = tashu[tashu.RETURN_DATE != 0]\n",
    "tashu = tashu[tashu.RENT_STATION != 0]\n",
    "tashu = tashu[tashu.RETURN_STATION != 0]\n",
    "\n",
    "test = tashu.groupby([\"RENT_STATION\", \"RETURN_STATION\"]).size().reset_index(name=\"ROUTECOUNT\")\n",
    "route = test.sort_values([\"ROUTECOUNT\"], ascending=[False])\n",
    "\n",
    "\n",
    "route['RENT_STATION'] = pd.to_numeric(route['RENT_STATION'])\n",
    "route['RETURN_STATION'] = pd.to_numeric(route['RETURN_STATION'])\n",
    "\n",
    "top10_route = route.loc [(route['RENT_STATION'] < 145) & (route['RETURN_STATION'] < 145) ].reset_index()\n",
    "\n",
    "top10_route.head(10)"
   ]
  },
  {
   "cell_type": "code",
   "execution_count": 59,
   "metadata": {},
   "outputs": [
    {
     "name": "stdout",
     "output_type": "stream",
     "text": [
      "[36.369855, 36.369855] [127.388749, 127.388749]\n",
      "[36.361773, 36.361773] [127.357485, 127.357485]\n",
      "[36.361736, 36.361736] [127.344994, 127.344994]\n",
      "[36.373457, 36.364177] [127.359293, 127.358845]\n",
      "[36.374325, 36.374325] [127.387462, 127.387462]\n",
      "[36.359293, 36.359293] [127.354503, 127.354503]\n",
      "[36.364177, 36.373457] [127.358845, 127.359293]\n",
      "[36.358494, 36.358494] [127.361197, 127.361197]\n",
      "[36.35219, 36.35219] [127.378814, 127.378814]\n",
      "[36.361736, 36.359293] [127.344994, 127.354503]\n"
     ]
    }
   ],
   "source": [
    "gmapl = gmplot.GoogleMapPlotter(statistics.median(top10_lat), statistics.median(top10_lon), 14)\n",
    "\n",
    "for i in range(10):\n",
    "    rent_lat = []\n",
    "    rent_lon = []\n",
    "\n",
    "    return_lat = []\n",
    "    return_lon = []\n",
    "\n",
    "    rent_location = station[station['번호'].isin([top10_route['RENT_STATION'][i]])]\n",
    "    return_location = station[station['번호'].isin([top10_route['RETURN_STATION'][i]])]\n",
    "    \n",
    "    # Rent\n",
    "    rent_lat.append(float(rent_location['좌표'].iloc[0].split(',')[0]))\n",
    "    rent_lon.append(float(rent_location['좌표'].iloc[0].split(',')[1]))\n",
    "    \n",
    "    # Return\n",
    "    return_lat.append(float(return_location['좌표'].iloc[0].split(',')[0]))\n",
    "    return_lon.append(float(return_location['좌표'].iloc[0].split(',')[1]))\n",
    "    \n",
    "    rent_lat.extend(return_lat)\n",
    "    rent_lon.extend(return_lon)\n",
    "    \n",
    "    print(rent_lat, rent_lon)\n",
    "    gmapl.scatter(rent_lat, rent_lon, '#ff0000', size=50, marker=False)\n",
    "    gmapl.plot(rent_lat, rent_lon,  'cornflowerblue', edge_width = 2.5)\n",
    "    \n",
    "    \n",
    "gmapl.draw('./top10_route.html')"
   ]
  },
  {
   "cell_type": "code",
   "execution_count": 64,
   "metadata": {},
   "outputs": [],
   "source": [
    "import bokeh\n",
    "import matplotlib\n",
    "import holoviews as hv\n",
    "from holoviews import opts, dim\n",
    "from bokeh.sampledata.les_mis import data"
   ]
  },
  {
   "cell_type": "code",
   "execution_count": 65,
   "metadata": {},
   "outputs": [
    {
     "name": "stderr",
     "output_type": "stream",
     "text": [
      "WARNING:param.notebook_extension: Holoviews bokeh extension could not be imported, it raised the following exception: ImportError('cannot import name 'silence' from 'bokeh.core.validation' (C:\\Users\\ESLAB\\Anaconda3\\lib\\site-packages\\bokeh\\core\\validation\\__init__.py)')\n"
     ]
    },
    {
     "ename": "ImportError",
     "evalue": "None of the backends could be imported",
     "output_type": "error",
     "traceback": [
      "\u001b[1;31m---------------------------------------------------------------------------\u001b[0m",
      "\u001b[1;31mImportError\u001b[0m                               Traceback (most recent call last)",
      "\u001b[1;32m<ipython-input-65-47f16422b90d>\u001b[0m in \u001b[0;36m<module>\u001b[1;34m\u001b[0m\n\u001b[1;32m----> 1\u001b[1;33m \u001b[0mhv\u001b[0m\u001b[1;33m.\u001b[0m\u001b[0mextension\u001b[0m\u001b[1;33m(\u001b[0m\u001b[1;34m'bokeh'\u001b[0m\u001b[1;33m)\u001b[0m\u001b[1;33m\u001b[0m\u001b[1;33m\u001b[0m\u001b[0m\n\u001b[0m\u001b[0;32m      2\u001b[0m \u001b[0mhv\u001b[0m\u001b[1;33m.\u001b[0m\u001b[0moutput\u001b[0m\u001b[1;33m(\u001b[0m\u001b[0msize\u001b[0m\u001b[1;33m=\u001b[0m\u001b[1;36m200\u001b[0m\u001b[1;33m)\u001b[0m\u001b[1;33m\u001b[0m\u001b[1;33m\u001b[0m\u001b[0m\n",
      "\u001b[1;32m~\\Anaconda3\\lib\\site-packages\\param\\parameterized.py\u001b[0m in \u001b[0;36m__new__\u001b[1;34m(class_, *args, **params)\u001b[0m\n\u001b[0;32m   2725\u001b[0m         \u001b[0minst\u001b[0m \u001b[1;33m=\u001b[0m \u001b[0mclass_\u001b[0m\u001b[1;33m.\u001b[0m\u001b[0minstance\u001b[0m\u001b[1;33m(\u001b[0m\u001b[1;33m)\u001b[0m\u001b[1;33m\u001b[0m\u001b[1;33m\u001b[0m\u001b[0m\n\u001b[0;32m   2726\u001b[0m         \u001b[0minst\u001b[0m\u001b[1;33m.\u001b[0m\u001b[0mparam\u001b[0m\u001b[1;33m.\u001b[0m\u001b[0m_set_name\u001b[0m\u001b[1;33m(\u001b[0m\u001b[0mclass_\u001b[0m\u001b[1;33m.\u001b[0m\u001b[0m__name__\u001b[0m\u001b[1;33m)\u001b[0m\u001b[1;33m\u001b[0m\u001b[1;33m\u001b[0m\u001b[0m\n\u001b[1;32m-> 2727\u001b[1;33m         \u001b[1;32mreturn\u001b[0m \u001b[0minst\u001b[0m\u001b[1;33m.\u001b[0m\u001b[0m__call__\u001b[0m\u001b[1;33m(\u001b[0m\u001b[1;33m*\u001b[0m\u001b[0margs\u001b[0m\u001b[1;33m,\u001b[0m\u001b[1;33m**\u001b[0m\u001b[0mparams\u001b[0m\u001b[1;33m)\u001b[0m\u001b[1;33m\u001b[0m\u001b[1;33m\u001b[0m\u001b[0m\n\u001b[0m\u001b[0;32m   2728\u001b[0m \u001b[1;33m\u001b[0m\u001b[0m\n\u001b[0;32m   2729\u001b[0m     \u001b[1;32mdef\u001b[0m \u001b[0m__call__\u001b[0m\u001b[1;33m(\u001b[0m\u001b[0mself\u001b[0m\u001b[1;33m,\u001b[0m\u001b[1;33m*\u001b[0m\u001b[0margs\u001b[0m\u001b[1;33m,\u001b[0m\u001b[1;33m**\u001b[0m\u001b[0mkw\u001b[0m\u001b[1;33m)\u001b[0m\u001b[1;33m:\u001b[0m\u001b[1;33m\u001b[0m\u001b[1;33m\u001b[0m\u001b[0m\n",
      "\u001b[1;32m~\\Anaconda3\\lib\\site-packages\\holoviews\\ipython\\__init__.py\u001b[0m in \u001b[0;36m__call__\u001b[1;34m(self, *args, **params)\u001b[0m\n\u001b[0;32m    112\u001b[0m \u001b[1;33m\u001b[0m\u001b[0m\n\u001b[0;32m    113\u001b[0m     \u001b[1;32mdef\u001b[0m \u001b[0m__call__\u001b[0m\u001b[1;33m(\u001b[0m\u001b[0mself\u001b[0m\u001b[1;33m,\u001b[0m \u001b[1;33m*\u001b[0m\u001b[0margs\u001b[0m\u001b[1;33m,\u001b[0m \u001b[1;33m**\u001b[0m\u001b[0mparams\u001b[0m\u001b[1;33m)\u001b[0m\u001b[1;33m:\u001b[0m\u001b[1;33m\u001b[0m\u001b[1;33m\u001b[0m\u001b[0m\n\u001b[1;32m--> 114\u001b[1;33m         \u001b[0msuper\u001b[0m\u001b[1;33m(\u001b[0m\u001b[0mnotebook_extension\u001b[0m\u001b[1;33m,\u001b[0m \u001b[0mself\u001b[0m\u001b[1;33m)\u001b[0m\u001b[1;33m.\u001b[0m\u001b[0m__call__\u001b[0m\u001b[1;33m(\u001b[0m\u001b[1;33m*\u001b[0m\u001b[0margs\u001b[0m\u001b[1;33m,\u001b[0m \u001b[1;33m**\u001b[0m\u001b[0mparams\u001b[0m\u001b[1;33m)\u001b[0m\u001b[1;33m\u001b[0m\u001b[1;33m\u001b[0m\u001b[0m\n\u001b[0m\u001b[0;32m    115\u001b[0m         \u001b[1;31m# Abort if IPython not found\u001b[0m\u001b[1;33m\u001b[0m\u001b[1;33m\u001b[0m\u001b[1;33m\u001b[0m\u001b[0m\n\u001b[0;32m    116\u001b[0m         \u001b[1;32mtry\u001b[0m\u001b[1;33m:\u001b[0m\u001b[1;33m\u001b[0m\u001b[1;33m\u001b[0m\u001b[0m\n",
      "\u001b[1;32m~\\Anaconda3\\lib\\site-packages\\holoviews\\util\\__init__.py\u001b[0m in \u001b[0;36m__call__\u001b[1;34m(self, *args, **params)\u001b[0m\n\u001b[0;32m    703\u001b[0m \u001b[1;33m\u001b[0m\u001b[0m\n\u001b[0;32m    704\u001b[0m         \u001b[1;32mif\u001b[0m \u001b[0mselected_backend\u001b[0m \u001b[1;32mis\u001b[0m \u001b[1;32mNone\u001b[0m\u001b[1;33m:\u001b[0m\u001b[1;33m\u001b[0m\u001b[1;33m\u001b[0m\u001b[0m\n\u001b[1;32m--> 705\u001b[1;33m             \u001b[1;32mraise\u001b[0m \u001b[0mImportError\u001b[0m\u001b[1;33m(\u001b[0m\u001b[1;34m'None of the backends could be imported'\u001b[0m\u001b[1;33m)\u001b[0m\u001b[1;33m\u001b[0m\u001b[1;33m\u001b[0m\u001b[0m\n\u001b[0m\u001b[0;32m    706\u001b[0m         \u001b[0mStore\u001b[0m\u001b[1;33m.\u001b[0m\u001b[0mset_current_backend\u001b[0m\u001b[1;33m(\u001b[0m\u001b[0mselected_backend\u001b[0m\u001b[1;33m)\u001b[0m\u001b[1;33m\u001b[0m\u001b[1;33m\u001b[0m\u001b[0m\n\u001b[0;32m    707\u001b[0m \u001b[1;33m\u001b[0m\u001b[0m\n",
      "\u001b[1;31mImportError\u001b[0m: None of the backends could be imported"
     ]
    }
   ],
   "source": [
    "hv.extension('bokeh')\n",
    "hv.output(size=200)"
   ]
  },
  {
   "cell_type": "code",
   "execution_count": null,
   "metadata": {},
   "outputs": [],
   "source": []
  },
  {
   "cell_type": "code",
   "execution_count": null,
   "metadata": {},
   "outputs": [],
   "source": []
  }
 ],
 "metadata": {
  "kernelspec": {
   "display_name": "Python 3",
   "language": "python",
   "name": "python3"
  },
  "language_info": {
   "codemirror_mode": {
    "name": "ipython",
    "version": 3
   },
   "file_extension": ".py",
   "mimetype": "text/x-python",
   "name": "python",
   "nbconvert_exporter": "python",
   "pygments_lexer": "ipython3",
   "version": "3.7.3"
  }
 },
 "nbformat": 4,
 "nbformat_minor": 2
}
