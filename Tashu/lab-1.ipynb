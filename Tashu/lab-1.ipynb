{
 "cells": [
  {
   "cell_type": "code",
   "execution_count": 1,
   "metadata": {},
   "outputs": [],
   "source": [
    "import pandas as pd\n",
    "import numpy as np\n",
    "import matplotlib.pyplot as plt\n",
    "import seaborn as sns\n",
    "import gmplot"
   ]
  },
  {
   "cell_type": "code",
   "execution_count": 2,
   "metadata": {},
   "outputs": [
    {
     "data": {
      "text/html": [
       "<div>\n",
       "<style scoped>\n",
       "    .dataframe tbody tr th:only-of-type {\n",
       "        vertical-align: middle;\n",
       "    }\n",
       "\n",
       "    .dataframe tbody tr th {\n",
       "        vertical-align: top;\n",
       "    }\n",
       "\n",
       "    .dataframe thead th {\n",
       "        text-align: right;\n",
       "    }\n",
       "</style>\n",
       "<table border=\"1\" class=\"dataframe\">\n",
       "  <thead>\n",
       "    <tr style=\"text-align: right;\">\n",
       "      <th></th>\n",
       "      <th>STATION</th>\n",
       "      <th>YEAR</th>\n",
       "      <th>MONTH</th>\n",
       "      <th>DAY</th>\n",
       "      <th>HOUR</th>\n",
       "      <th>WEEKDAY</th>\n",
       "      <th>SEASON</th>\n",
       "      <th>TEMPERATURE</th>\n",
       "      <th>RAINFALL</th>\n",
       "      <th>WINDSPEED</th>\n",
       "      <th>HUMLDITY</th>\n",
       "      <th>SNOWFALL</th>\n",
       "      <th>RENTCOUNT</th>\n",
       "    </tr>\n",
       "  </thead>\n",
       "  <tbody>\n",
       "    <tr>\n",
       "      <th>0</th>\n",
       "      <td>1</td>\n",
       "      <td>2013</td>\n",
       "      <td>1</td>\n",
       "      <td>1</td>\n",
       "      <td>0</td>\n",
       "      <td>1</td>\n",
       "      <td>3</td>\n",
       "      <td>-8.8</td>\n",
       "      <td>0.0</td>\n",
       "      <td>0.1</td>\n",
       "      <td>90.0</td>\n",
       "      <td>8.8</td>\n",
       "      <td>0.0</td>\n",
       "    </tr>\n",
       "    <tr>\n",
       "      <th>1</th>\n",
       "      <td>1</td>\n",
       "      <td>2013</td>\n",
       "      <td>1</td>\n",
       "      <td>1</td>\n",
       "      <td>1</td>\n",
       "      <td>1</td>\n",
       "      <td>3</td>\n",
       "      <td>-8.5</td>\n",
       "      <td>0.0</td>\n",
       "      <td>0.9</td>\n",
       "      <td>90.0</td>\n",
       "      <td>8.8</td>\n",
       "      <td>0.0</td>\n",
       "    </tr>\n",
       "    <tr>\n",
       "      <th>2</th>\n",
       "      <td>1</td>\n",
       "      <td>2013</td>\n",
       "      <td>1</td>\n",
       "      <td>1</td>\n",
       "      <td>2</td>\n",
       "      <td>1</td>\n",
       "      <td>3</td>\n",
       "      <td>-8.5</td>\n",
       "      <td>0.0</td>\n",
       "      <td>1.0</td>\n",
       "      <td>89.0</td>\n",
       "      <td>8.8</td>\n",
       "      <td>0.0</td>\n",
       "    </tr>\n",
       "    <tr>\n",
       "      <th>3</th>\n",
       "      <td>1</td>\n",
       "      <td>2013</td>\n",
       "      <td>1</td>\n",
       "      <td>1</td>\n",
       "      <td>3</td>\n",
       "      <td>1</td>\n",
       "      <td>3</td>\n",
       "      <td>-9.0</td>\n",
       "      <td>0.0</td>\n",
       "      <td>0.7</td>\n",
       "      <td>91.0</td>\n",
       "      <td>8.8</td>\n",
       "      <td>0.0</td>\n",
       "    </tr>\n",
       "    <tr>\n",
       "      <th>4</th>\n",
       "      <td>1</td>\n",
       "      <td>2013</td>\n",
       "      <td>1</td>\n",
       "      <td>1</td>\n",
       "      <td>4</td>\n",
       "      <td>1</td>\n",
       "      <td>3</td>\n",
       "      <td>-9.1</td>\n",
       "      <td>0.0</td>\n",
       "      <td>0.6</td>\n",
       "      <td>92.0</td>\n",
       "      <td>8.8</td>\n",
       "      <td>0.0</td>\n",
       "    </tr>\n",
       "  </tbody>\n",
       "</table>\n",
       "</div>"
      ],
      "text/plain": [
       "   STATION  YEAR  MONTH  DAY  HOUR  WEEKDAY  SEASON  TEMPERATURE  RAINFALL  \\\n",
       "0        1  2013      1    1     0        1       3         -8.8       0.0   \n",
       "1        1  2013      1    1     1        1       3         -8.5       0.0   \n",
       "2        1  2013      1    1     2        1       3         -8.5       0.0   \n",
       "3        1  2013      1    1     3        1       3         -9.0       0.0   \n",
       "4        1  2013      1    1     4        1       3         -9.1       0.0   \n",
       "\n",
       "   WINDSPEED  HUMLDITY  SNOWFALL  RENTCOUNT  \n",
       "0        0.1      90.0       8.8        0.0  \n",
       "1        0.9      90.0       8.8        0.0  \n",
       "2        1.0      89.0       8.8        0.0  \n",
       "3        0.7      91.0       8.8        0.0  \n",
       "4        0.6      92.0       8.8        0.0  "
      ]
     },
     "execution_count": 2,
     "metadata": {},
     "output_type": "execute_result"
    }
   ],
   "source": [
    "train = pd.read_csv('./data/sample_rent.csv')\n",
    "train.head(5)"
   ]
  },
  {
   "cell_type": "code",
   "execution_count": 3,
   "metadata": {},
   "outputs": [
    {
     "data": {
      "text/html": [
       "<div>\n",
       "<style scoped>\n",
       "    .dataframe tbody tr th:only-of-type {\n",
       "        vertical-align: middle;\n",
       "    }\n",
       "\n",
       "    .dataframe tbody tr th {\n",
       "        vertical-align: top;\n",
       "    }\n",
       "\n",
       "    .dataframe thead th {\n",
       "        text-align: right;\n",
       "    }\n",
       "</style>\n",
       "<table border=\"1\" class=\"dataframe\">\n",
       "  <thead>\n",
       "    <tr style=\"text-align: right;\">\n",
       "      <th></th>\n",
       "      <th>번호</th>\n",
       "      <th>키오스크번호</th>\n",
       "      <th>구별</th>\n",
       "      <th>명칭</th>\n",
       "      <th>위치</th>\n",
       "      <th>주소</th>\n",
       "      <th>거치대</th>\n",
       "      <th>좌표</th>\n",
       "    </tr>\n",
       "  </thead>\n",
       "  <tbody>\n",
       "    <tr>\n",
       "      <th>0</th>\n",
       "      <td>1</td>\n",
       "      <td>1</td>\n",
       "      <td>유성구</td>\n",
       "      <td>무역전시관입구(택시승강장 앞)</td>\n",
       "      <td>엑스포다리 맞은편</td>\n",
       "      <td>유성구 도룡동 3-8</td>\n",
       "      <td>14</td>\n",
       "      <td>36.374325,127.387462</td>\n",
       "    </tr>\n",
       "    <tr>\n",
       "      <th>1</th>\n",
       "      <td>2</td>\n",
       "      <td>2</td>\n",
       "      <td>유성구</td>\n",
       "      <td>대전컨벤션 센터 앞</td>\n",
       "      <td>둔산대교 맞은편</td>\n",
       "      <td>유성구 도룡동 4-19</td>\n",
       "      <td>20</td>\n",
       "      <td>36.374472,127.392241</td>\n",
       "    </tr>\n",
       "    <tr>\n",
       "      <th>2</th>\n",
       "      <td>3</td>\n",
       "      <td>3</td>\n",
       "      <td>서구</td>\n",
       "      <td>한밭수목원(정문입구)</td>\n",
       "      <td>한밭수목원 내</td>\n",
       "      <td>서구 만년동 396</td>\n",
       "      <td>19</td>\n",
       "      <td>36.369855,127.388749</td>\n",
       "    </tr>\n",
       "    <tr>\n",
       "      <th>3</th>\n",
       "      <td>4</td>\n",
       "      <td>4</td>\n",
       "      <td>서구</td>\n",
       "      <td>초원아파트104동부근(버스정류장)</td>\n",
       "      <td>초원아파트 104동앞 쪽문 육교 버스정류장 앞</td>\n",
       "      <td>서구 만년동 401</td>\n",
       "      <td>12</td>\n",
       "      <td>36.368192,127.379281</td>\n",
       "    </tr>\n",
       "    <tr>\n",
       "      <th>4</th>\n",
       "      <td>5</td>\n",
       "      <td>5</td>\n",
       "      <td>서구</td>\n",
       "      <td>둔산대공원 입구(버스정류장)</td>\n",
       "      <td>한밭수목원에서 평송수련원 가는길 버스정류장 앞</td>\n",
       "      <td>서구 둔산동 1521-10</td>\n",
       "      <td>13</td>\n",
       "      <td>36.365034,127.389361</td>\n",
       "    </tr>\n",
       "  </tbody>\n",
       "</table>\n",
       "</div>"
      ],
      "text/plain": [
       "   번호  키오스크번호   구별                  명칭                         위치  \\\n",
       "0   1       1  유성구    무역전시관입구(택시승강장 앞)                  엑스포다리 맞은편   \n",
       "1   2       2  유성구          대전컨벤션 센터 앞                   둔산대교 맞은편   \n",
       "2   3       3   서구         한밭수목원(정문입구)                    한밭수목원 내   \n",
       "3   4       4   서구  초원아파트104동부근(버스정류장)  초원아파트 104동앞 쪽문 육교 버스정류장 앞   \n",
       "4   5       5   서구     둔산대공원 입구(버스정류장)  한밭수목원에서 평송수련원 가는길 버스정류장 앞   \n",
       "\n",
       "                주소  거치대                    좌표  \n",
       "0      유성구 도룡동 3-8   14  36.374325,127.387462  \n",
       "1     유성구 도룡동 4-19   20  36.374472,127.392241  \n",
       "2       서구 만년동 396   19  36.369855,127.388749  \n",
       "3       서구 만년동 401   12  36.368192,127.379281  \n",
       "4   서구 둔산동 1521-10   13  36.365034,127.389361  "
      ]
     },
     "execution_count": 3,
     "metadata": {},
     "output_type": "execute_result"
    }
   ],
   "source": [
    "station_df = pd.read_csv('./data/station.csv')\n",
    "station_df.head(5)"
   ]
  },
  {
   "cell_type": "code",
   "execution_count": 4,
   "metadata": {},
   "outputs": [
    {
     "data": {
      "text/html": [
       "<div>\n",
       "<style scoped>\n",
       "    .dataframe tbody tr th:only-of-type {\n",
       "        vertical-align: middle;\n",
       "    }\n",
       "\n",
       "    .dataframe tbody tr th {\n",
       "        vertical-align: top;\n",
       "    }\n",
       "\n",
       "    .dataframe thead th {\n",
       "        text-align: right;\n",
       "    }\n",
       "</style>\n",
       "<table border=\"1\" class=\"dataframe\">\n",
       "  <thead>\n",
       "    <tr style=\"text-align: right;\">\n",
       "      <th></th>\n",
       "      <th>STATION</th>\n",
       "      <th>YEAR</th>\n",
       "      <th>MONTH</th>\n",
       "      <th>DAY</th>\n",
       "      <th>HOUR</th>\n",
       "      <th>WEEKDAY</th>\n",
       "      <th>SEASON</th>\n",
       "      <th>TEMPERATURE</th>\n",
       "      <th>RAINFALL</th>\n",
       "      <th>WINDSPEED</th>\n",
       "      <th>HUMLDITY</th>\n",
       "      <th>SNOWFALL</th>\n",
       "      <th>RENTCOUNT</th>\n",
       "    </tr>\n",
       "  </thead>\n",
       "  <tbody>\n",
       "    <tr>\n",
       "      <th>count</th>\n",
       "      <td>1.261440e+06</td>\n",
       "      <td>1261440.0</td>\n",
       "      <td>1.261440e+06</td>\n",
       "      <td>1.261440e+06</td>\n",
       "      <td>1.261440e+06</td>\n",
       "      <td>1.261440e+06</td>\n",
       "      <td>1.261440e+06</td>\n",
       "      <td>1.261440e+06</td>\n",
       "      <td>1.261440e+06</td>\n",
       "      <td>1.261440e+06</td>\n",
       "      <td>1.261440e+06</td>\n",
       "      <td>1.261440e+06</td>\n",
       "      <td>1.261440e+06</td>\n",
       "    </tr>\n",
       "    <tr>\n",
       "      <th>mean</th>\n",
       "      <td>7.250000e+01</td>\n",
       "      <td>2013.0</td>\n",
       "      <td>6.526027e+00</td>\n",
       "      <td>1.572055e+01</td>\n",
       "      <td>1.150000e+01</td>\n",
       "      <td>2.994521e+00</td>\n",
       "      <td>1.490411e+00</td>\n",
       "      <td>1.312479e+01</td>\n",
       "      <td>1.278767e-01</td>\n",
       "      <td>1.575057e+00</td>\n",
       "      <td>7.296952e+01</td>\n",
       "      <td>5.778881e-01</td>\n",
       "      <td>8.209356e-01</td>\n",
       "    </tr>\n",
       "    <tr>\n",
       "      <th>std</th>\n",
       "      <td>4.156823e+01</td>\n",
       "      <td>0.0</td>\n",
       "      <td>3.447853e+00</td>\n",
       "      <td>8.796250e+00</td>\n",
       "      <td>6.922189e+00</td>\n",
       "      <td>1.999993e+00</td>\n",
       "      <td>1.116767e+00</td>\n",
       "      <td>1.132480e+01</td>\n",
       "      <td>9.294803e-01</td>\n",
       "      <td>1.078129e+00</td>\n",
       "      <td>1.995988e+01</td>\n",
       "      <td>2.442430e+00</td>\n",
       "      <td>2.338449e+00</td>\n",
       "    </tr>\n",
       "    <tr>\n",
       "      <th>min</th>\n",
       "      <td>1.000000e+00</td>\n",
       "      <td>2013.0</td>\n",
       "      <td>1.000000e+00</td>\n",
       "      <td>1.000000e+00</td>\n",
       "      <td>0.000000e+00</td>\n",
       "      <td>0.000000e+00</td>\n",
       "      <td>0.000000e+00</td>\n",
       "      <td>-1.650000e+01</td>\n",
       "      <td>0.000000e+00</td>\n",
       "      <td>0.000000e+00</td>\n",
       "      <td>1.300000e+01</td>\n",
       "      <td>0.000000e+00</td>\n",
       "      <td>0.000000e+00</td>\n",
       "    </tr>\n",
       "    <tr>\n",
       "      <th>25%</th>\n",
       "      <td>3.675000e+01</td>\n",
       "      <td>2013.0</td>\n",
       "      <td>4.000000e+00</td>\n",
       "      <td>8.000000e+00</td>\n",
       "      <td>5.750000e+00</td>\n",
       "      <td>1.000000e+00</td>\n",
       "      <td>0.000000e+00</td>\n",
       "      <td>3.300000e+00</td>\n",
       "      <td>0.000000e+00</td>\n",
       "      <td>8.000000e-01</td>\n",
       "      <td>6.000000e+01</td>\n",
       "      <td>0.000000e+00</td>\n",
       "      <td>0.000000e+00</td>\n",
       "    </tr>\n",
       "    <tr>\n",
       "      <th>50%</th>\n",
       "      <td>7.250000e+01</td>\n",
       "      <td>2013.0</td>\n",
       "      <td>7.000000e+00</td>\n",
       "      <td>1.600000e+01</td>\n",
       "      <td>1.150000e+01</td>\n",
       "      <td>3.000000e+00</td>\n",
       "      <td>1.000000e+00</td>\n",
       "      <td>1.340000e+01</td>\n",
       "      <td>0.000000e+00</td>\n",
       "      <td>1.300000e+00</td>\n",
       "      <td>7.600000e+01</td>\n",
       "      <td>0.000000e+00</td>\n",
       "      <td>0.000000e+00</td>\n",
       "    </tr>\n",
       "    <tr>\n",
       "      <th>75%</th>\n",
       "      <td>1.082500e+02</td>\n",
       "      <td>2013.0</td>\n",
       "      <td>1.000000e+01</td>\n",
       "      <td>2.300000e+01</td>\n",
       "      <td>1.725000e+01</td>\n",
       "      <td>5.000000e+00</td>\n",
       "      <td>2.000000e+00</td>\n",
       "      <td>2.340000e+01</td>\n",
       "      <td>0.000000e+00</td>\n",
       "      <td>2.100000e+00</td>\n",
       "      <td>9.000000e+01</td>\n",
       "      <td>0.000000e+00</td>\n",
       "      <td>1.000000e+00</td>\n",
       "    </tr>\n",
       "    <tr>\n",
       "      <th>max</th>\n",
       "      <td>1.440000e+02</td>\n",
       "      <td>2013.0</td>\n",
       "      <td>1.200000e+01</td>\n",
       "      <td>3.100000e+01</td>\n",
       "      <td>2.300000e+01</td>\n",
       "      <td>6.000000e+00</td>\n",
       "      <td>3.000000e+00</td>\n",
       "      <td>3.490000e+01</td>\n",
       "      <td>2.870000e+01</td>\n",
       "      <td>7.700000e+00</td>\n",
       "      <td>1.000000e+02</td>\n",
       "      <td>1.840000e+01</td>\n",
       "      <td>1.080000e+02</td>\n",
       "    </tr>\n",
       "  </tbody>\n",
       "</table>\n",
       "</div>"
      ],
      "text/plain": [
       "            STATION       YEAR         MONTH           DAY          HOUR  \\\n",
       "count  1.261440e+06  1261440.0  1.261440e+06  1.261440e+06  1.261440e+06   \n",
       "mean   7.250000e+01     2013.0  6.526027e+00  1.572055e+01  1.150000e+01   \n",
       "std    4.156823e+01        0.0  3.447853e+00  8.796250e+00  6.922189e+00   \n",
       "min    1.000000e+00     2013.0  1.000000e+00  1.000000e+00  0.000000e+00   \n",
       "25%    3.675000e+01     2013.0  4.000000e+00  8.000000e+00  5.750000e+00   \n",
       "50%    7.250000e+01     2013.0  7.000000e+00  1.600000e+01  1.150000e+01   \n",
       "75%    1.082500e+02     2013.0  1.000000e+01  2.300000e+01  1.725000e+01   \n",
       "max    1.440000e+02     2013.0  1.200000e+01  3.100000e+01  2.300000e+01   \n",
       "\n",
       "            WEEKDAY        SEASON   TEMPERATURE      RAINFALL     WINDSPEED  \\\n",
       "count  1.261440e+06  1.261440e+06  1.261440e+06  1.261440e+06  1.261440e+06   \n",
       "mean   2.994521e+00  1.490411e+00  1.312479e+01  1.278767e-01  1.575057e+00   \n",
       "std    1.999993e+00  1.116767e+00  1.132480e+01  9.294803e-01  1.078129e+00   \n",
       "min    0.000000e+00  0.000000e+00 -1.650000e+01  0.000000e+00  0.000000e+00   \n",
       "25%    1.000000e+00  0.000000e+00  3.300000e+00  0.000000e+00  8.000000e-01   \n",
       "50%    3.000000e+00  1.000000e+00  1.340000e+01  0.000000e+00  1.300000e+00   \n",
       "75%    5.000000e+00  2.000000e+00  2.340000e+01  0.000000e+00  2.100000e+00   \n",
       "max    6.000000e+00  3.000000e+00  3.490000e+01  2.870000e+01  7.700000e+00   \n",
       "\n",
       "           HUMLDITY      SNOWFALL     RENTCOUNT  \n",
       "count  1.261440e+06  1.261440e+06  1.261440e+06  \n",
       "mean   7.296952e+01  5.778881e-01  8.209356e-01  \n",
       "std    1.995988e+01  2.442430e+00  2.338449e+00  \n",
       "min    1.300000e+01  0.000000e+00  0.000000e+00  \n",
       "25%    6.000000e+01  0.000000e+00  0.000000e+00  \n",
       "50%    7.600000e+01  0.000000e+00  0.000000e+00  \n",
       "75%    9.000000e+01  0.000000e+00  1.000000e+00  \n",
       "max    1.000000e+02  1.840000e+01  1.080000e+02  "
      ]
     },
     "execution_count": 4,
     "metadata": {},
     "output_type": "execute_result"
    }
   ],
   "source": [
    "train.describe()"
   ]
  },
  {
   "cell_type": "code",
   "execution_count": 5,
   "metadata": {},
   "outputs": [
    {
     "data": {
      "text/plain": [
       "STATION\n",
       "3     55294.0\n",
       "56    34038.0\n",
       "17    29633.0\n",
       "31    28865.0\n",
       "33    25506.0\n",
       "32    24668.0\n",
       "14    20744.0\n",
       "60    19330.0\n",
       "55    19058.0\n",
       "8     18702.0\n",
       "Name: RENTCOUNT, dtype: float64"
      ]
     },
     "execution_count": 5,
     "metadata": {},
     "output_type": "execute_result"
    }
   ],
   "source": [
    "train.groupby(['STATION'])['RENTCOUNT'].sum().nlargest(10)"
   ]
  },
  {
   "cell_type": "code",
   "execution_count": 6,
   "metadata": {},
   "outputs": [
    {
     "data": {
      "image/png": "[encoded data removed]",
      "text/plain": [
       "<Figure size 432x288 with 1 Axes>"
      ]
     },
     "metadata": {
      "needs_background": "light"
     },
     "output_type": "display_data"
    }
   ],
   "source": [
    "group_season = train.groupby(['SEASON'])['RENTCOUNT'].sum().reset_index()\n",
    "ax = sns.barplot(x=group_season['SEASON'], y=group_season['RENTCOUNT'])\n",
    "ax.set(xlabel='Season', ylabel='Rent count')\n",
    "season = ['Spring', 'Sumer', 'Fall', 'Winter']\n",
    "plt.xticks(np.arange(4), season)\n",
    "plt.title('The number of rented bike by season')\n",
    "plt.show()"
   ]
  },
  {
   "cell_type": "code",
   "execution_count": 7,
   "metadata": {},
   "outputs": [
    {
     "data": {
      "image/png": "[encoded data removed]",
      "text/plain": [
       "<Figure size 432x288 with 1 Axes>"
      ]
     },
     "metadata": {
      "needs_background": "light"
     },
     "output_type": "display_data"
    }
   ],
   "source": [
    "group_weekday = train.groupby(['WEEKDAY'])['RENTCOUNT'].sum().reset_index()\n",
    "ax = sns.barplot(x=group_weekday['WEEKDAY'], y=group_weekday['RENTCOUNT'])\n",
    "ax.set(xlabel='Weekday', ylabel = 'Count')\n",
    "weekday = ['SUN', 'MON', 'TUE', 'WED', 'THU', 'FRI', 'SAT']\n",
    "plt.xticks(np.arange(7), weekday)\n",
    "plt.title('The number of rented bike by weekday')\n",
    "plt.show()"
   ]
  },
  {
   "cell_type": "code",
   "execution_count": 8,
   "metadata": {},
   "outputs": [
    {
     "data": {
      "image/png": "[encoded data removed]",
      "text/plain": [
       "<Figure size 432x288 with 1 Axes>"
      ]
     },
     "metadata": {
      "needs_background": "light"
     },
     "output_type": "display_data"
    }
   ],
   "source": [
    "group_mn = train.groupby(['MONTH'])['RENTCOUNT'].sum().reset_index()\n",
    "ax = sns.barplot(x=group_mn['MONTH'], y=group_mn['RENTCOUNT'])\n",
    "ax.set(xlabel='Month', ylabel='count')\n",
    "plt.title('The number of rented bike by weekday')\n",
    "plt.show()"
   ]
  },
  {
   "cell_type": "code",
   "execution_count": 9,
   "metadata": {},
   "outputs": [
    {
     "data": {
      "image/png": "[encoded data removed]",
      "text/plain": [
       "<Figure size 432x288 with 1 Axes>"
      ]
     },
     "metadata": {
      "needs_background": "light"
     },
     "output_type": "display_data"
    }
   ],
   "source": [
    "group_hr = train.groupby(['HOUR'])['RENTCOUNT'].sum().reset_index()\n",
    "ax = sns.barplot(x=group_hr['HOUR'], y=group_hr['RENTCOUNT'])\n",
    "ax.set(xlabel='Hour', ylabel='Count')\n",
    "plt.title('The number of rented bike by weekday')\n",
    "plt.show()"
   ]
  },
  {
   "cell_type": "code",
   "execution_count": 10,
   "metadata": {},
   "outputs": [
    {
     "data": {
      "image/png": "[encoded data removed]",
      "text/plain": [
       "<Figure size 720x432 with 2 Axes>"
      ]
     },
     "metadata": {
      "needs_background": "light"
     },
     "output_type": "display_data"
    }
   ],
   "source": [
    "plt.figure(figsize=(10, 6))\n",
    "station_3 = train[train['STATION']==3]\n",
    "group_weekday_hour = station_3.groupby(['WEEKDAY', 'HOUR'])['RENTCOUNT'].mean().reset_index()\n",
    "weekday_hour = np.zeros([7, 24])\n",
    "for i in range(7*24):\n",
    "    weekday_hour[int(group_weekday_hour.iloc[i][0])][int(group_weekday_hour.iloc[i][1])]=group_weekday_hour.iloc[i][2]\n",
    "ax = sns.heatmap(weekday_hour, cmap='YlGnBu')\n",
    "ax.set(xlabel='Hour', ylabel='Weekday')\n",
    "weekday = ['SUN', 'MON', 'TUE', 'WED', 'THU', 'FRI', 'SAT']\n",
    "plt.yticks(np.arange(7), weekday)\n",
    "plt.show()"
   ]
  },
  {
   "cell_type": "code",
   "execution_count": 11,
   "metadata": {
    "scrolled": true
   },
   "outputs": [
    {
     "name": "stdout",
     "output_type": "stream",
     "text": [
      "STATION\n",
      "3     55294.0\n",
      "56    34038.0\n",
      "17    29633.0\n",
      "31    28865.0\n",
      "33    25506.0\n",
      "32    24668.0\n",
      "14    20744.0\n",
      "60    19330.0\n",
      "55    19058.0\n",
      "8     18702.0\n",
      "Name: RENTCOUNT, dtype: float64\n",
      "36.369855\n",
      "[36.369855, 36.361736, 36.35219, 36.361773, 36.358494, 36.359293, 36.355558, 36.353299, 36.362446, 36.361794]\n",
      "127.359341\n"
     ]
    }
   ],
   "source": [
    "import gmplot\n",
    "import statistics\n",
    "\n",
    "top10 = train.groupby(['STATION'])['RENTCOUNT'].sum().nlargest(10)\n",
    "print(top10)\n",
    "\n",
    "top10_lat = []\n",
    "top10_lon = []\n",
    "\n",
    "top10_station = top10.index\n",
    "\n",
    "tmp = station_df[station_df['번호'].isin(['3'])]\n",
    "\n",
    "print(tmp['좌표'].iloc[0].split(',')[0])\n",
    "\n",
    "for i in range(10):\n",
    "    location = station_df[station_df['번호'].isin([top10.index[i]])]\n",
    "    \n",
    "    top10_lat.append(float(location['좌표'].iloc[0].split(',')[0]))\n",
    "    top10_lon.append(float(location['좌표'].iloc[0].split(',')[1]))\n",
    "\n",
    "print(top10_lat)\n",
    "print(statistics.median(top10_lon))\n",
    "\n",
    "gmapl = gmplot.GoogleMapPlotter(statistics.median(top10_lat), statistics.median(top10_lon), 14)\n",
    "gmapl.scatter(top10_lat, top10_lon, '#ff0000', size=30)\n",
    "gmapl.draw('./top10.html')"
   ]
  },
  {
   "cell_type": "code",
   "execution_count": null,
   "metadata": {},
   "outputs": [],
   "source": []
  }
 ],
 "metadata": {
  "kernelspec": {
   "display_name": "Python 3",
   "language": "python",
   "name": "python3"
  },
  "language_info": {
   "codemirror_mode": {
    "name": "ipython",
    "version": 3
   },
   "file_extension": ".py",
   "mimetype": "text/x-python",
   "name": "python",
   "nbconvert_exporter": "python",
   "pygments_lexer": "ipython3",
   "version": "3.7.3"
  }
 },
 "nbformat": 4,
 "nbformat_minor": 2
}
